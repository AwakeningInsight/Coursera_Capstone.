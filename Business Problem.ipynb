{
 "cells": [
  {
   "cell_type": "markdown",
   "metadata": {},
   "source": [
    "### Introduction : Business Problem"
   ]
  },
  {
   "cell_type": "markdown",
   "metadata": {},
   "source": [
    "Liège, also known as **\"La Cité ardente\"**, is a French-speaking city in eastern Belgium. It is the capital of the province of Liege and the economic capital of Wallonia. \n",
    "\n",
    "- In 2020, Liège has more than 200,000 inhabitants and its agglomeration is populated by about 700,000 inhabitants. By number of inhabitants, it is **the third largest city in Belgium** after Brussels and Antwerp.\n",
    "\n",
    "Being a heavily populated tourist city in Belgium, an Italian restaurant chain would like to open a restaurant in an attractive area of the city.\n",
    "\n",
    "\n",
    "In this capstone project I will thus try to find an optimal location to open an **Italian restaurant** in **Liège**, Belgium.\n",
    "\n",
    "To this end, I will use three main criteria:\n",
    "\n",
    "First, I will first try to detect **locations that are not already crowded with restaurants**. Second, I will try to detect **areas with no Italian restaurants in vicinity**. Third,  assuming that first two conditions are met, I will prioritize locations **as close to city center as possible**.\n"
   ]
  }
 ],
 "metadata": {
  "kernelspec": {
   "display_name": "Python 3",
   "language": "python",
   "name": "python3"
  },
  "language_info": {
   "codemirror_mode": {
    "name": "ipython",
    "version": 3
   },
   "file_extension": ".py",
   "mimetype": "text/x-python",
   "name": "python",
   "nbconvert_exporter": "python",
   "pygments_lexer": "ipython3",
   "version": "3.8.5"
  }
 },
 "nbformat": 4,
 "nbformat_minor": 4
}
