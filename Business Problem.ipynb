{
 "cells": [
  {
   "cell_type": "markdown",
   "metadata": {},
   "source": [
    "### Introduction : Business Problem"
   ]
  },
  {
   "cell_type": "markdown",
   "metadata": {},
   "source": [
    "Brussels is the capital and the economic center of Belgium (https://fr.wikipedia.org/wiki/Bruxelles). \n",
    "\n",
    "- In 2020, Brussels has more than 185,000 inhabitants with arout 5 510,21 habitants/km2. Being the the seat of the French Community and the Flemish Community, as well as the seat of several European Union institutions, Brussels attracts thousands workers and tourists from all over the world every week. \n",
    "\n",
    "Being a place to be for investers, an friterie chain would like to open a restaurant in an economically attractive area of the city.\n",
    "\n",
    "In this capstone project I will thus try to find an optimal location to open a **Friterie** in **Brussels**, Belgium.\n",
    "\n",
    "To this end, I will use the information about restaurants (and friteries) in Brussels from Foursquares to find the best location for a successfully restaurant."
   ]
  }
 ],
 "metadata": {
  "kernelspec": {
   "display_name": "Python 3",
   "language": "python",
   "name": "python3"
  },
  "language_info": {
   "codemirror_mode": {
    "name": "ipython",
    "version": 3
   },
   "file_extension": ".py",
   "mimetype": "text/x-python",
   "name": "python",
   "nbconvert_exporter": "python",
   "pygments_lexer": "ipython3",
   "version": "3.8.5"
  }
 },
 "nbformat": 4,
 "nbformat_minor": 4
}
