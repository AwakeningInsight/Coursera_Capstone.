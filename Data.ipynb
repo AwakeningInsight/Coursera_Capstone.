{
 "cells": [
  {
   "cell_type": "markdown",
   "metadata": {},
   "source": [
    "### Data"
   ]
  },
  {
   "cell_type": "markdown",
   "metadata": {},
   "source": [
    "To find the best area in Liège, I will examine three factors:\n",
    "* number of existing restaurants in the neighborhood.\n",
    "* number of and distance to Italian restaurants in the neighborhood, if any.\n",
    "* distance of neighborhood from city center.\n",
    "\n",
    "I decided to use regularly spaced grid of locations, centered around city center, to define the **neighborhoods**.\n",
    "\n",
    "Following data sources will be needed to extract/generate the required information:\n",
    "* centers of candidate areas will be generated algorithmically.\n",
    "* number of restaurants and their type and location in every neighborhood will be obtained using **Foursquare API**"
   ]
  }
 ],
 "metadata": {
  "kernelspec": {
   "display_name": "Python 3",
   "language": "python",
   "name": "python3"
  },
  "language_info": {
   "codemirror_mode": {
    "name": "ipython",
    "version": 3
   },
   "file_extension": ".py",
   "mimetype": "text/x-python",
   "name": "python",
   "nbconvert_exporter": "python",
   "pygments_lexer": "ipython3",
   "version": "3.8.5"
  }
 },
 "nbformat": 4,
 "nbformat_minor": 4
}
