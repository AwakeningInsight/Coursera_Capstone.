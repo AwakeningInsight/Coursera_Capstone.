{
 "cells": [
  {
   "cell_type": "markdown",
   "metadata": {},
   "source": [
    "### Data"
   ]
  },
  {
   "cell_type": "markdown",
   "metadata": {},
   "source": [
    "To find the best area in Brussels, I will use data from wikipedia to determine Brussels borough and **neighborhoods**: \n",
    "\n",
    "https://fr.wikipedia.org/wiki/Mod%C3%A8le:Palette_Quartiers_de_la_ville_de_Bruxelles\n",
    "\n",
    "Then,I will use **Nominatim** from geolocator to extract latitude and longitude information for each neighborhood.\n",
    "\n",
    "The number of restaurants and their type and location in every neighborhood will be obtained using **Foursquare API**\n",
    "\n",
    "Together, these information will provide me a clear indication of zones with low number of restaurants in vicinity, and few friteries at all nearby.\n",
    "\n"
   ]
  }
 ],
 "metadata": {
  "kernelspec": {
   "display_name": "Python 3",
   "language": "python",
   "name": "python3"
  },
  "language_info": {
   "codemirror_mode": {
    "name": "ipython",
    "version": 3
   },
   "file_extension": ".py",
   "mimetype": "text/x-python",
   "name": "python",
   "nbconvert_exporter": "python",
   "pygments_lexer": "ipython3",
   "version": "3.8.5"
  }
 },
 "nbformat": 4,
 "nbformat_minor": 4
}
